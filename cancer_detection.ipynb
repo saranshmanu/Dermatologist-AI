{
  "nbformat": 4,
  "nbformat_minor": 0,
  "metadata": {
    "colab": {
      "name": "cancer_detection.ipynb",
      "version": "0.3.2",
      "provenance": [],
      "collapsed_sections": []
    },
    "kernelspec": {
      "name": "python3",
      "display_name": "Python 3"
    },
    "accelerator": "GPU"
  },
  "cells": [
    {
      "cell_type": "markdown",
      "metadata": {
        "id": "-XMUtgJQrpWX",
        "colab_type": "text"
      },
      "source": [
        "# Dermatologist-AI"
      ]
    },
    {
      "cell_type": "markdown",
      "metadata": {
        "id": "J1heNT-PrtVK",
        "colab_type": "text"
      },
      "source": [
        "### About the project\n",
        "In this mini project, I will design an algorithm that can visually diagnose melanoma, the deadliest form of skin cancer. In particular, algorithm will distinguish this malignant skin tumor from two types of benign lesions (nevi and seborrheic keratoses).\n",
        "\n",
        "The data and objective are pulled from the 2017 ISIC Challenge on Skin Lesion Analysis Towards Melanoma Detection. As part of the challenge, I was tasked to design an algorithm to diagnose skin lesion images as one of three different skin diseases (melanoma, nevus, or seborrheic keratosis). In this project, I will create a model to generate your own predictions."
      ]
    },
    {
      "cell_type": "markdown",
      "metadata": {
        "id": "tus4w2hWr1F4",
        "colab_type": "text"
      },
      "source": [
        "## Importing the libraries and dataset"
      ]
    },
    {
      "cell_type": "code",
      "metadata": {
        "id": "7StAriuFWAGv",
        "colab_type": "code",
        "colab": {}
      },
      "source": [
        "import keras\n",
        "import pandas as pd\n",
        "import numpy as np\n",
        "import matplotlib.pyplot as plt\n",
        "import matplotlib.mlab as mlab\n",
        "import os\n",
        "from shutil import copyfile\n",
        "import zipfile"
      ],
      "execution_count": 0,
      "outputs": []
    },
    {
      "cell_type": "code",
      "metadata": {
        "id": "LWviQIXCbuB9",
        "colab_type": "code",
        "outputId": "d6eee566-844a-4d6f-f53a-ba246214b28e",
        "colab": {
          "base_uri": "https://localhost:8080/",
          "height": 209
        }
      },
      "source": [
        "from google.colab import drive, files\n",
        "drive.mount('/content/drive')"
      ],
      "execution_count": 1,
      "outputs": [
        {
          "output_type": "stream",
          "text": [
            "Go to this URL in a browser: https://accounts.google.com/o/oauth2/auth?client_id=947318989803-6bn6qk8qdgf4n4g3pfee6491hc0brc4i.apps.googleusercontent.com&redirect_uri=urn%3Aietf%3Awg%3Aoauth%3A2.0%3Aoob&scope=email%20https%3A%2F%2Fwww.googleapis.com%2Fauth%2Fdocs.test%20https%3A%2F%2Fwww.googleapis.com%2Fauth%2Fdrive%20https%3A%2F%2Fwww.googleapis.com%2Fauth%2Fdrive.photos.readonly%20https%3A%2F%2Fwww.googleapis.com%2Fauth%2Fpeopleapi.readonly&response_type=code\n",
            "\n",
            "Enter your authorization code:\n",
            "··········\n",
            "Mounted at /content/drive\n"
          ],
          "name": "stdout"
        }
      ]
    },
    {
      "cell_type": "code",
      "metadata": {
        "id": "lO862WTshIin",
        "colab_type": "code",
        "colab": {}
      },
      "source": [
        "def unzip_file(name, target):\n",
        "    zip_ref = zipfile.ZipFile(base_url + name, 'r')\n",
        "    zip_ref.extractall(target)\n",
        "    zip_ref.close()"
      ],
      "execution_count": 0,
      "outputs": []
    },
    {
      "cell_type": "code",
      "metadata": {
        "id": "HDHLnkx1fmt5",
        "colab_type": "code",
        "outputId": "e7a0ff5f-6c4f-48d3-cd07-46137e72aaf5",
        "colab": {
          "base_uri": "https://localhost:8080/",
          "height": 153
        }
      },
      "source": [
        "base_url = 'drive/My Drive/HAM10000/'\n",
        "unzip_file(\"HAM10000_images_part_1.zip\", target = base_url + \"images\")\n",
        "unzip_file(\"HAM10000_images_part_2.zip\", target = base_url + \"images\")\n",
        "os.listdir(base_url)"
      ],
      "execution_count": 45,
      "outputs": [
        {
          "output_type": "execute_result",
          "data": {
            "text/plain": [
              "['hmnist_28_28_RGB.csv',\n",
              " 'HAM10000_images_part_1.zip',\n",
              " 'HAM10000_metadata.csv',\n",
              " 'hmnist_28_28_L.csv',\n",
              " 'HAM10000_images_part_2.zip',\n",
              " 'hmnist_8_8_L.csv',\n",
              " 'hmnist_8_8_RGB.csv',\n",
              " 'images']"
            ]
          },
          "metadata": {
            "tags": []
          },
          "execution_count": 45
        }
      ]
    },
    {
      "cell_type": "code",
      "metadata": {
        "id": "EnmdfnCIQSPC",
        "colab_type": "code",
        "colab": {}
      },
      "source": [
        "lesion_type_dict = {\n",
        "    'nv': 'Melanocytic nevi',\n",
        "    'mel': 'Melanoma',\n",
        "    'bkl': 'Benign keratosis-like lesions ',\n",
        "    'bcc': 'Basal cell carcinoma',\n",
        "    'akiec': 'Actinic keratoses',\n",
        "    'vasc': 'Vascular lesions',\n",
        "    'df': 'Dermatofibroma'\n",
        "}"
      ],
      "execution_count": 0,
      "outputs": []
    },
    {
      "cell_type": "code",
      "metadata": {
        "id": "wtJD_AbVfpAE",
        "colab_type": "code",
        "outputId": "ecd554f1-f502-433c-9793-edb71471b7fd",
        "colab": {
          "base_uri": "https://localhost:8080/",
          "height": 153
        }
      },
      "source": [
        "# total_images = len(os.listdir(base_url + 'images'))\n",
        "df = pd.read_csv(base_url + 'HAM10000_metadata.csv')\n",
        "df.dtypes"
      ],
      "execution_count": 47,
      "outputs": [
        {
          "output_type": "execute_result",
          "data": {
            "text/plain": [
              "lesion_id        object\n",
              "image_id         object\n",
              "dx               object\n",
              "dx_type          object\n",
              "age             float64\n",
              "sex              object\n",
              "localization     object\n",
              "dtype: object"
            ]
          },
          "metadata": {
            "tags": []
          },
          "execution_count": 47
        }
      ]
    },
    {
      "cell_type": "markdown",
      "metadata": {
        "id": "RhsCSOTgrZvX",
        "colab_type": "text"
      },
      "source": [
        "## Exploratory Data Analysis - EDA"
      ]
    },
    {
      "cell_type": "code",
      "metadata": {
        "id": "bhDjVS75jtIi",
        "colab_type": "code",
        "outputId": "e95e4790-ba00-4de6-fead-fbe1f331a798",
        "colab": {
          "base_uri": "https://localhost:8080/",
          "height": 323
        }
      },
      "source": [
        "lesion_types = df.dx.unique()\n",
        "lesion_count = [df.dx.to_list().count(i) for i in lesion_types]\n",
        "plt.rcParams[\"figure.figsize\"] = [5,5]\n",
        "plt.bar(lesion_types, lesion_count)\n",
        "plt.show()"
      ],
      "execution_count": 48,
      "outputs": [
        {
          "output_type": "display_data",
          "data": {
            "image/png": "[encoded data removed]",
            "text/plain": [
              "<Figure size 360x360 with 1 Axes>"
            ]
          },
          "metadata": {
            "tags": []
          }
        }
      ]
    },
    {
      "cell_type": "code",
      "metadata": {
        "id": "OZ05k34fPa2v",
        "colab_type": "code",
        "outputId": "b5b15f9d-6802-4cb3-d33e-e9ceae1ba1a7",
        "colab": {
          "base_uri": "https://localhost:8080/",
          "height": 638
        }
      },
      "source": [
        "plt.rcParams[\"figure.figsize\"] = [20,8]\n",
        "\n",
        "for i in range(len(lesion_types)):\n",
        "    df_lesion = df[df.dx == lesion_types[i]]\n",
        "    age_distribution = df_lesion.age.to_list()\n",
        "    plt.subplot(2, 4, i + 1)\n",
        "    plt.title(lesion_type_dict[lesion_types[i]])\n",
        "    plt.hist(age_distribution, bins=17, normed=1, facecolor='blue', alpha=0.5)\n",
        "    \n",
        "plt.show()"
      ],
      "execution_count": 49,
      "outputs": [
        {
          "output_type": "stream",
          "text": [
            "/usr/local/lib/python3.6/dist-packages/matplotlib/axes/_axes.py:6521: MatplotlibDeprecationWarning: \n",
            "The 'normed' kwarg was deprecated in Matplotlib 2.1 and will be removed in 3.1. Use 'density' instead.\n",
            "  alternative=\"'density'\", removal=\"3.1\")\n",
            "/usr/local/lib/python3.6/dist-packages/numpy/lib/histograms.py:824: RuntimeWarning: invalid value encountered in greater_equal\n",
            "  keep = (tmp_a >= first_edge)\n",
            "/usr/local/lib/python3.6/dist-packages/numpy/lib/histograms.py:825: RuntimeWarning: invalid value encountered in less_equal\n",
            "  keep &= (tmp_a <= last_edge)\n"
          ],
          "name": "stderr"
        },
        {
          "output_type": "display_data",
          "data": {
            "image/png": "[encoded data removed]",
            "text/plain": [
              "<Figure size 1440x576 with 7 Axes>"
            ]
          },
          "metadata": {
            "tags": []
          }
        }
      ]
    },
    {
      "cell_type": "code",
      "metadata": {
        "id": "iKda3ycTXI9D",
        "colab_type": "code",
        "outputId": "0c01da5b-40f2-4887-cb82-e5e5f992d4f9",
        "colab": {
          "base_uri": "https://localhost:8080/",
          "height": 343
        }
      },
      "source": [
        "localization_types = df.localization.unique()\n",
        "localization_count = [df.localization.to_list().count(i) for i in localization_types]\n",
        "plt.rcParams[\"figure.figsize\"] = [20,5]\n",
        "plt.bar(localization_types, localization_count)\n",
        "plt.show()"
      ],
      "execution_count": 50,
      "outputs": [
        {
          "output_type": "display_data",
          "data": {
            "image/png": "[encoded data removed]",
            "text/plain": [
              "<Figure size 1440x360 with 1 Axes>"
            ]
          },
          "metadata": {
            "tags": []
          }
        }
      ]
    },
    {
      "cell_type": "code",
      "metadata": {
        "id": "BsE7LbcCYgc2",
        "colab_type": "code",
        "outputId": "07dd55aa-5479-485a-e2c6-25bff9e87a8d",
        "colab": {
          "base_uri": "https://localhost:8080/",
          "height": 323
        }
      },
      "source": [
        "gender_types = df.sex.unique()\n",
        "gender_count = [df.sex.to_list().count(i) for i in gender_types]\n",
        "plt.rcParams[\"figure.figsize\"] = [5,5]\n",
        "plt.bar(gender_types, gender_count)\n",
        "plt.show()"
      ],
      "execution_count": 51,
      "outputs": [
        {
          "output_type": "display_data",
          "data": {
            "image/png": "[encoded data removed]",
            "text/plain": [
              "<Figure size 360x360 with 1 Axes>"
            ]
          },
          "metadata": {
            "tags": []
          }
        }
      ]
    },
    {
      "cell_type": "code",
      "metadata": {
        "id": "Q_SuGGN8k2Kw",
        "colab_type": "code",
        "colab": {}
      },
      "source": [
        "df = df.drop(df[df.dx == 'nv'].iloc[:5000].index)"
      ],
      "execution_count": 0,
      "outputs": []
    },
    {
      "cell_type": "code",
      "metadata": {
        "id": "TpUUBcmY5qCb",
        "colab_type": "code",
        "outputId": "109b4818-d93c-4c0c-8ed0-053253135eb0",
        "colab": {
          "base_uri": "https://localhost:8080/",
          "height": 323
        }
      },
      "source": [
        "lesion_types = df.dx.unique()\n",
        "lesion_count = [df.dx.to_list().count(i) for i in lesion_types]\n",
        "plt.rcParams[\"figure.figsize\"] = [5,5]\n",
        "plt.bar(lesion_types, lesion_count)\n",
        "plt.show()"
      ],
      "execution_count": 53,
      "outputs": [
        {
          "output_type": "display_data",
          "data": {
            "image/png": "[encoded data removed]",
            "text/plain": [
              "<Figure size 360x360 with 1 Axes>"
            ]
          },
          "metadata": {
            "tags": []
          }
        }
      ]
    },
    {
      "cell_type": "markdown",
      "metadata": {
        "id": "cwyzKC54rQYz",
        "colab_type": "text"
      },
      "source": [
        "## Create train test split"
      ]
    },
    {
      "cell_type": "code",
      "metadata": {
        "id": "uQCfhnbnMG1R",
        "colab_type": "code",
        "colab": {}
      },
      "source": [
        "from sklearn.model_selection import train_test_split\n",
        "image_id = df.image_id.to_list()\n",
        "lesion_type = df.dx.to_list()\n",
        "image_id_train, image_id_test, lesion_train, lesion_test = train_test_split(image_id, lesion_type, test_size=0.2, random_state=42)"
      ],
      "execution_count": 0,
      "outputs": []
    },
    {
      "cell_type": "code",
      "metadata": {
        "id": "h3uFIfYxcQx-",
        "colab_type": "code",
        "outputId": "355a3ee2-1010-499d-f526-510b98668b11",
        "colab": {
          "base_uri": "https://localhost:8080/",
          "height": 51
        }
      },
      "source": [
        "def sort_images(dataset_type, image_id, lesion_type):\n",
        "    try:\n",
        "        os.mkdir(base_url + dataset_type)\n",
        "        print('Folder created')\n",
        "    except:\n",
        "        None\n",
        "    for i, j in zip(image_id, lesion_type):\n",
        "        folders_created = os.listdir(base_url + dataset_type)\n",
        "        if j not in folders_created:\n",
        "            os.mkdir(base_url + dataset_type + '/' + j)\n",
        "        destination = base_url + dataset_type + '/' + j + '/' + i + '.jpg'\n",
        "        source = base_url + 'images/' + i + '.jpg'\n",
        "        # Transfering the images from source to destination\n",
        "        try:\n",
        "            copyfile(source, destination)\n",
        "        except:\n",
        "            None\n",
        "\n",
        "sort_images('train', image_id_train, lesion_train)\n",
        "sort_images('test', image_id_test, lesion_test)"
      ],
      "execution_count": 55,
      "outputs": [
        {
          "output_type": "stream",
          "text": [
            "Folder created\n",
            "Folder created\n"
          ],
          "name": "stdout"
        }
      ]
    },
    {
      "cell_type": "markdown",
      "metadata": {
        "id": "EkejPtLGsMDA",
        "colab_type": "text"
      },
      "source": [
        "## Creating CNN model for training"
      ]
    },
    {
      "cell_type": "markdown",
      "metadata": {
        "id": "PT1a-prdb6BS",
        "colab_type": "text"
      },
      "source": [
        "### Transfer Learning"
      ]
    },
    {
      "cell_type": "code",
      "metadata": {
        "id": "JJeQ1KSRb5Y2",
        "colab_type": "code",
        "colab": {}
      },
      "source": [
        "import keras\n",
        "from keras import backend as K\n",
        "from keras.layers.core import Dense, Dropout\n",
        "from keras.models import Model\n",
        "from keras.preprocessing.image import ImageDataGenerator\n",
        "from keras.optimizers import Adam\n",
        "from keras.callbacks import ReduceLROnPlateau, ModelCheckpoint"
      ],
      "execution_count": 0,
      "outputs": []
    },
    {
      "cell_type": "code",
      "metadata": {
        "id": "ST36C8M5b8fO",
        "colab_type": "code",
        "colab": {
          "base_uri": "https://localhost:8080/",
          "height": 51
        },
        "outputId": "2a735bd4-53f1-4706-d823-baae83e488c8"
      },
      "source": [
        "base_url = 'drive/My Drive/HAM10000/'\n",
        "\n",
        "batch_size = 32\n",
        "\n",
        "train_batches = ImageDataGenerator(\n",
        "    preprocessing_function = keras.applications.mobilenet.preprocess_input).flow_from_directory(\n",
        "    base_url + \"train\",\n",
        "    target_size=(224, 224),\n",
        "    batch_size=batch_size)\n",
        "test_batches = ImageDataGenerator(\n",
        "    preprocessing_function = keras.applications.mobilenet.preprocess_input).flow_from_directory(\n",
        "    base_url + \"test\",\n",
        "    target_size=(224, 224),\n",
        "    batch_size=batch_size,\n",
        "    shuffle=False)\n",
        "\n",
        "train_batches_size = len(train_batches.classes)/batch_size\n",
        "test_batches_size = len(test_batches.classes)/batch_size"
      ],
      "execution_count": 57,
      "outputs": [
        {
          "output_type": "stream",
          "text": [
            "Found 4012 images belonging to 7 classes.\n",
            "Found 1003 images belonging to 7 classes.\n"
          ],
          "name": "stdout"
        }
      ]
    },
    {
      "cell_type": "code",
      "metadata": {
        "id": "stZTJuwjcIzL",
        "colab_type": "code",
        "colab": {
          "base_uri": "https://localhost:8080/",
          "height": 3196
        },
        "outputId": "33b7377b-92b4-4a77-c671-f71500e0b058"
      },
      "source": [
        "mobile = keras.applications.mobilenet.MobileNet()\n",
        "x = mobile.layers[-6].output\n",
        "x = Dropout(0.25)(x)\n",
        "predictions = Dense(7, activation='softmax')(x)\n",
        "model = Model(inputs=mobile.input, outputs=predictions)\n",
        "model.summary()"
      ],
      "execution_count": 58,
      "outputs": [
        {
          "output_type": "stream",
          "text": [
            "_________________________________________________________________\n",
            "Layer (type)                 Output Shape              Param #   \n",
            "=================================================================\n",
            "input_3 (InputLayer)         (None, 224, 224, 3)       0         \n",
            "_________________________________________________________________\n",
            "conv1_pad (ZeroPadding2D)    (None, 225, 225, 3)       0         \n",
            "_________________________________________________________________\n",
            "conv1 (Conv2D)               (None, 112, 112, 32)      864       \n",
            "_________________________________________________________________\n",
            "conv1_bn (BatchNormalization (None, 112, 112, 32)      128       \n",
            "_________________________________________________________________\n",
            "conv1_relu (ReLU)            (None, 112, 112, 32)      0         \n",
            "_________________________________________________________________\n",
            "conv_dw_1 (DepthwiseConv2D)  (None, 112, 112, 32)      288       \n",
            "_________________________________________________________________\n",
            "conv_dw_1_bn (BatchNormaliza (None, 112, 112, 32)      128       \n",
            "_________________________________________________________________\n",
            "conv_dw_1_relu (ReLU)        (None, 112, 112, 32)      0         \n",
            "_________________________________________________________________\n",
            "conv_pw_1 (Conv2D)           (None, 112, 112, 64)      2048      \n",
            "_________________________________________________________________\n",
            "conv_pw_1_bn (BatchNormaliza (None, 112, 112, 64)      256       \n",
            "_________________________________________________________________\n",
            "conv_pw_1_relu (ReLU)        (None, 112, 112, 64)      0         \n",
            "_________________________________________________________________\n",
            "conv_pad_2 (ZeroPadding2D)   (None, 113, 113, 64)      0         \n",
            "_________________________________________________________________\n",
            "conv_dw_2 (DepthwiseConv2D)  (None, 56, 56, 64)        576       \n",
            "_________________________________________________________________\n",
            "conv_dw_2_bn (BatchNormaliza (None, 56, 56, 64)        256       \n",
            "_________________________________________________________________\n",
            "conv_dw_2_relu (ReLU)        (None, 56, 56, 64)        0         \n",
            "_________________________________________________________________\n",
            "conv_pw_2 (Conv2D)           (None, 56, 56, 128)       8192      \n",
            "_________________________________________________________________\n",
            "conv_pw_2_bn (BatchNormaliza (None, 56, 56, 128)       512       \n",
            "_________________________________________________________________\n",
            "conv_pw_2_relu (ReLU)        (None, 56, 56, 128)       0         \n",
            "_________________________________________________________________\n",
            "conv_dw_3 (DepthwiseConv2D)  (None, 56, 56, 128)       1152      \n",
            "_________________________________________________________________\n",
            "conv_dw_3_bn (BatchNormaliza (None, 56, 56, 128)       512       \n",
            "_________________________________________________________________\n",
            "conv_dw_3_relu (ReLU)        (None, 56, 56, 128)       0         \n",
            "_________________________________________________________________\n",
            "conv_pw_3 (Conv2D)           (None, 56, 56, 128)       16384     \n",
            "_________________________________________________________________\n",
            "conv_pw_3_bn (BatchNormaliza (None, 56, 56, 128)       512       \n",
            "_________________________________________________________________\n",
            "conv_pw_3_relu (ReLU)        (None, 56, 56, 128)       0         \n",
            "_________________________________________________________________\n",
            "conv_pad_4 (ZeroPadding2D)   (None, 57, 57, 128)       0         \n",
            "_________________________________________________________________\n",
            "conv_dw_4 (DepthwiseConv2D)  (None, 28, 28, 128)       1152      \n",
            "_________________________________________________________________\n",
            "conv_dw_4_bn (BatchNormaliza (None, 28, 28, 128)       512       \n",
            "_________________________________________________________________\n",
            "conv_dw_4_relu (ReLU)        (None, 28, 28, 128)       0         \n",
            "_________________________________________________________________\n",
            "conv_pw_4 (Conv2D)           (None, 28, 28, 256)       32768     \n",
            "_________________________________________________________________\n",
            "conv_pw_4_bn (BatchNormaliza (None, 28, 28, 256)       1024      \n",
            "_________________________________________________________________\n",
            "conv_pw_4_relu (ReLU)        (None, 28, 28, 256)       0         \n",
            "_________________________________________________________________\n",
            "conv_dw_5 (DepthwiseConv2D)  (None, 28, 28, 256)       2304      \n",
            "_________________________________________________________________\n",
            "conv_dw_5_bn (BatchNormaliza (None, 28, 28, 256)       1024      \n",
            "_________________________________________________________________\n",
            "conv_dw_5_relu (ReLU)        (None, 28, 28, 256)       0         \n",
            "_________________________________________________________________\n",
            "conv_pw_5 (Conv2D)           (None, 28, 28, 256)       65536     \n",
            "_________________________________________________________________\n",
            "conv_pw_5_bn (BatchNormaliza (None, 28, 28, 256)       1024      \n",
            "_________________________________________________________________\n",
            "conv_pw_5_relu (ReLU)        (None, 28, 28, 256)       0         \n",
            "_________________________________________________________________\n",
            "conv_pad_6 (ZeroPadding2D)   (None, 29, 29, 256)       0         \n",
            "_________________________________________________________________\n",
            "conv_dw_6 (DepthwiseConv2D)  (None, 14, 14, 256)       2304      \n",
            "_________________________________________________________________\n",
            "conv_dw_6_bn (BatchNormaliza (None, 14, 14, 256)       1024      \n",
            "_________________________________________________________________\n",
            "conv_dw_6_relu (ReLU)        (None, 14, 14, 256)       0         \n",
            "_________________________________________________________________\n",
            "conv_pw_6 (Conv2D)           (None, 14, 14, 512)       131072    \n",
            "_________________________________________________________________\n",
            "conv_pw_6_bn (BatchNormaliza (None, 14, 14, 512)       2048      \n",
            "_________________________________________________________________\n",
            "conv_pw_6_relu (ReLU)        (None, 14, 14, 512)       0         \n",
            "_________________________________________________________________\n",
            "conv_dw_7 (DepthwiseConv2D)  (None, 14, 14, 512)       4608      \n",
            "_________________________________________________________________\n",
            "conv_dw_7_bn (BatchNormaliza (None, 14, 14, 512)       2048      \n",
            "_________________________________________________________________\n",
            "conv_dw_7_relu (ReLU)        (None, 14, 14, 512)       0         \n",
            "_________________________________________________________________\n",
            "conv_pw_7 (Conv2D)           (None, 14, 14, 512)       262144    \n",
            "_________________________________________________________________\n",
            "conv_pw_7_bn (BatchNormaliza (None, 14, 14, 512)       2048      \n",
            "_________________________________________________________________\n",
            "conv_pw_7_relu (ReLU)        (None, 14, 14, 512)       0         \n",
            "_________________________________________________________________\n",
            "conv_dw_8 (DepthwiseConv2D)  (None, 14, 14, 512)       4608      \n",
            "_________________________________________________________________\n",
            "conv_dw_8_bn (BatchNormaliza (None, 14, 14, 512)       2048      \n",
            "_________________________________________________________________\n",
            "conv_dw_8_relu (ReLU)        (None, 14, 14, 512)       0         \n",
            "_________________________________________________________________\n",
            "conv_pw_8 (Conv2D)           (None, 14, 14, 512)       262144    \n",
            "_________________________________________________________________\n",
            "conv_pw_8_bn (BatchNormaliza (None, 14, 14, 512)       2048      \n",
            "_________________________________________________________________\n",
            "conv_pw_8_relu (ReLU)        (None, 14, 14, 512)       0         \n",
            "_________________________________________________________________\n",
            "conv_dw_9 (DepthwiseConv2D)  (None, 14, 14, 512)       4608      \n",
            "_________________________________________________________________\n",
            "conv_dw_9_bn (BatchNormaliza (None, 14, 14, 512)       2048      \n",
            "_________________________________________________________________\n",
            "conv_dw_9_relu (ReLU)        (None, 14, 14, 512)       0         \n",
            "_________________________________________________________________\n",
            "conv_pw_9 (Conv2D)           (None, 14, 14, 512)       262144    \n",
            "_________________________________________________________________\n",
            "conv_pw_9_bn (BatchNormaliza (None, 14, 14, 512)       2048      \n",
            "_________________________________________________________________\n",
            "conv_pw_9_relu (ReLU)        (None, 14, 14, 512)       0         \n",
            "_________________________________________________________________\n",
            "conv_dw_10 (DepthwiseConv2D) (None, 14, 14, 512)       4608      \n",
            "_________________________________________________________________\n",
            "conv_dw_10_bn (BatchNormaliz (None, 14, 14, 512)       2048      \n",
            "_________________________________________________________________\n",
            "conv_dw_10_relu (ReLU)       (None, 14, 14, 512)       0         \n",
            "_________________________________________________________________\n",
            "conv_pw_10 (Conv2D)          (None, 14, 14, 512)       262144    \n",
            "_________________________________________________________________\n",
            "conv_pw_10_bn (BatchNormaliz (None, 14, 14, 512)       2048      \n",
            "_________________________________________________________________\n",
            "conv_pw_10_relu (ReLU)       (None, 14, 14, 512)       0         \n",
            "_________________________________________________________________\n",
            "conv_dw_11 (DepthwiseConv2D) (None, 14, 14, 512)       4608      \n",
            "_________________________________________________________________\n",
            "conv_dw_11_bn (BatchNormaliz (None, 14, 14, 512)       2048      \n",
            "_________________________________________________________________\n",
            "conv_dw_11_relu (ReLU)       (None, 14, 14, 512)       0         \n",
            "_________________________________________________________________\n",
            "conv_pw_11 (Conv2D)          (None, 14, 14, 512)       262144    \n",
            "_________________________________________________________________\n",
            "conv_pw_11_bn (BatchNormaliz (None, 14, 14, 512)       2048      \n",
            "_________________________________________________________________\n",
            "conv_pw_11_relu (ReLU)       (None, 14, 14, 512)       0         \n",
            "_________________________________________________________________\n",
            "conv_pad_12 (ZeroPadding2D)  (None, 15, 15, 512)       0         \n",
            "_________________________________________________________________\n",
            "conv_dw_12 (DepthwiseConv2D) (None, 7, 7, 512)         4608      \n",
            "_________________________________________________________________\n",
            "conv_dw_12_bn (BatchNormaliz (None, 7, 7, 512)         2048      \n",
            "_________________________________________________________________\n",
            "conv_dw_12_relu (ReLU)       (None, 7, 7, 512)         0         \n",
            "_________________________________________________________________\n",
            "conv_pw_12 (Conv2D)          (None, 7, 7, 1024)        524288    \n",
            "_________________________________________________________________\n",
            "conv_pw_12_bn (BatchNormaliz (None, 7, 7, 1024)        4096      \n",
            "_________________________________________________________________\n",
            "conv_pw_12_relu (ReLU)       (None, 7, 7, 1024)        0         \n",
            "_________________________________________________________________\n",
            "conv_dw_13 (DepthwiseConv2D) (None, 7, 7, 1024)        9216      \n",
            "_________________________________________________________________\n",
            "conv_dw_13_bn (BatchNormaliz (None, 7, 7, 1024)        4096      \n",
            "_________________________________________________________________\n",
            "conv_dw_13_relu (ReLU)       (None, 7, 7, 1024)        0         \n",
            "_________________________________________________________________\n",
            "conv_pw_13 (Conv2D)          (None, 7, 7, 1024)        1048576   \n",
            "_________________________________________________________________\n",
            "conv_pw_13_bn (BatchNormaliz (None, 7, 7, 1024)        4096      \n",
            "_________________________________________________________________\n",
            "conv_pw_13_relu (ReLU)       (None, 7, 7, 1024)        0         \n",
            "_________________________________________________________________\n",
            "global_average_pooling2d_3 ( (None, 1024)              0         \n",
            "_________________________________________________________________\n",
            "dropout_3 (Dropout)          (None, 1024)              0         \n",
            "_________________________________________________________________\n",
            "dense_3 (Dense)              (None, 7)                 7175      \n",
            "=================================================================\n",
            "Total params: 3,236,039\n",
            "Trainable params: 3,214,151\n",
            "Non-trainable params: 21,888\n",
            "_________________________________________________________________\n"
          ],
          "name": "stdout"
        }
      ]
    },
    {
      "cell_type": "code",
      "metadata": {
        "id": "OqVb_DPfczDv",
        "colab_type": "code",
        "colab": {}
      },
      "source": [
        "# Freeze the weights of the layers that we aren't training (training the last 23)\n",
        "for layer in model.layers[:-23]:\n",
        "    layer.trainable = False"
      ],
      "execution_count": 0,
      "outputs": []
    },
    {
      "cell_type": "code",
      "metadata": {
        "id": "eNJUx61ac8iR",
        "colab_type": "code",
        "colab": {}
      },
      "source": [
        "model.compile(Adam(lr=0.01), loss='categorical_crossentropy', metrics=['accuracy'])\n",
        "# Add weights to make the model more sensitive to melanoma\n",
        "class_weights={\n",
        "    0: 1.0,  # akiec\n",
        "    1: 1.0,  # bcc\n",
        "    2: 1.0,  # bkl\n",
        "    3: 1.0,  # df\n",
        "    4: 3.0,  # mel\n",
        "    5: 1.0,  # nv\n",
        "    6: 1.0,  # vasc\n",
        "}"
      ],
      "execution_count": 0,
      "outputs": []
    },
    {
      "cell_type": "code",
      "metadata": {
        "id": "Q8eDQnDSc_fQ",
        "colab_type": "code",
        "colab": {
          "base_uri": "https://localhost:8080/",
          "height": 2057
        },
        "outputId": "f76d251c-2ca1-4179-dbde-fd33effcbb80"
      },
      "source": [
        "filepath = \"model.h5\"\n",
        "checkpoint = ModelCheckpoint(filepath, monitor='val_acc', verbose=1, save_best_only=True, mode='max')\n",
        "reduce_lr = ReduceLROnPlateau(monitor='val_acc', factor=0.5, patience=2, verbose=1, mode='max', min_lr=0.00001)\n",
        "callbacks_list = [checkpoint]\n",
        "\n",
        "# Fit the model\n",
        "history = model.fit_generator(train_batches,\n",
        "                              steps_per_epoch=train_batches_size,\n",
        "                              class_weight=class_weights,\n",
        "                              validation_data=test_batches,\n",
        "                              validation_steps=test_batches_size,\n",
        "                              epochs=30,\n",
        "                              verbose=1,\n",
        "                              callbacks=callbacks_list)"
      ],
      "execution_count": 61,
      "outputs": [
        {
          "output_type": "stream",
          "text": [
            "Epoch 1/30\n",
            "126/125 [==============================] - 59s 466ms/step - loss: 2.6416 - acc: 0.4224 - val_loss: 4.6919 - val_acc: 0.2413\n",
            "\n",
            "Epoch 00001: val_acc improved from -inf to 0.24128, saving model to model.h5\n",
            "Epoch 2/30\n",
            "126/125 [==============================] - 51s 404ms/step - loss: 1.4399 - acc: 0.5642 - val_loss: 2.8663 - val_acc: 0.3998\n",
            "\n",
            "Epoch 00002: val_acc improved from 0.24128 to 0.39980, saving model to model.h5\n",
            "Epoch 3/30\n",
            "126/125 [==============================] - 52s 409ms/step - loss: 1.1419 - acc: 0.6464 - val_loss: 2.6614 - val_acc: 0.4317\n",
            "\n",
            "Epoch 00003: val_acc improved from 0.39980 to 0.43170, saving model to model.h5\n",
            "Epoch 4/30\n",
            "126/125 [==============================] - 52s 415ms/step - loss: 0.9175 - acc: 0.7320 - val_loss: 5.3198 - val_acc: 0.3370\n",
            "\n",
            "Epoch 00004: val_acc did not improve from 0.43170\n",
            "Epoch 5/30\n",
            "126/125 [==============================] - 54s 426ms/step - loss: 0.7670 - acc: 0.7775 - val_loss: 6.2090 - val_acc: 0.2861\n",
            "\n",
            "Epoch 00005: val_acc did not improve from 0.43170\n",
            "Epoch 6/30\n",
            "126/125 [==============================] - 51s 404ms/step - loss: 0.6907 - acc: 0.7970 - val_loss: 3.9950 - val_acc: 0.4776\n",
            "\n",
            "Epoch 00006: val_acc improved from 0.43170 to 0.47757, saving model to model.h5\n",
            "Epoch 7/30\n",
            "126/125 [==============================] - 52s 415ms/step - loss: 0.5350 - acc: 0.8428 - val_loss: 4.1527 - val_acc: 0.3809\n",
            "\n",
            "Epoch 00007: val_acc did not improve from 0.47757\n",
            "Epoch 8/30\n",
            "126/125 [==============================] - 52s 415ms/step - loss: 0.4253 - acc: 0.8715 - val_loss: 6.8034 - val_acc: 0.2812\n",
            "\n",
            "Epoch 00008: val_acc did not improve from 0.47757\n",
            "Epoch 9/30\n",
            "126/125 [==============================] - 52s 412ms/step - loss: 0.3495 - acc: 0.8964 - val_loss: 4.0844 - val_acc: 0.4497\n",
            "\n",
            "Epoch 00009: val_acc did not improve from 0.47757\n",
            "Epoch 10/30\n",
            "126/125 [==============================] - 52s 416ms/step - loss: 0.2989 - acc: 0.9180 - val_loss: 8.0677 - val_acc: 0.4068\n",
            "\n",
            "Epoch 00010: val_acc did not improve from 0.47757\n",
            "Epoch 11/30\n",
            "126/125 [==============================] - 53s 421ms/step - loss: 0.2700 - acc: 0.9235 - val_loss: 3.5400 - val_acc: 0.3470\n",
            "\n",
            "Epoch 00011: val_acc did not improve from 0.47757\n",
            "Epoch 12/30\n",
            "126/125 [==============================] - 51s 404ms/step - loss: 0.1941 - acc: 0.9479 - val_loss: 3.5906 - val_acc: 0.4656\n",
            "\n",
            "Epoch 00012: val_acc did not improve from 0.47757\n",
            "Epoch 13/30\n",
            "126/125 [==============================] - 52s 414ms/step - loss: 0.2121 - acc: 0.9389 - val_loss: 7.1961 - val_acc: 0.3669\n",
            "\n",
            "Epoch 00013: val_acc did not improve from 0.47757\n",
            "Epoch 14/30\n",
            "126/125 [==============================] - 52s 410ms/step - loss: 0.2705 - acc: 0.9279 - val_loss: 5.9935 - val_acc: 0.3669\n",
            "\n",
            "Epoch 00014: val_acc did not improve from 0.47757\n",
            "Epoch 15/30\n",
            "126/125 [==============================] - 52s 409ms/step - loss: 0.2436 - acc: 0.9373 - val_loss: 3.8503 - val_acc: 0.4666\n",
            "\n",
            "Epoch 00015: val_acc did not improve from 0.47757\n",
            "Epoch 16/30\n",
            "126/125 [==============================] - 52s 414ms/step - loss: 0.2097 - acc: 0.9442 - val_loss: 8.2980 - val_acc: 0.3390\n",
            "\n",
            "Epoch 00016: val_acc did not improve from 0.47757\n",
            "Epoch 17/30\n",
            "126/125 [==============================] - 53s 417ms/step - loss: 0.1500 - acc: 0.9574 - val_loss: 8.7565 - val_acc: 0.3410\n",
            "\n",
            "Epoch 00017: val_acc did not improve from 0.47757\n",
            "Epoch 18/30\n",
            "126/125 [==============================] - 52s 412ms/step - loss: 0.1316 - acc: 0.9615 - val_loss: 4.1447 - val_acc: 0.4736\n",
            "\n",
            "Epoch 00018: val_acc did not improve from 0.47757\n",
            "Epoch 19/30\n",
            "126/125 [==============================] - 52s 414ms/step - loss: 0.1749 - acc: 0.9546 - val_loss: 7.5632 - val_acc: 0.3410\n",
            "\n",
            "Epoch 00019: val_acc did not improve from 0.47757\n",
            "Epoch 20/30\n",
            "126/125 [==============================] - 52s 410ms/step - loss: 0.1520 - acc: 0.9573 - val_loss: 5.7190 - val_acc: 0.3898\n",
            "\n",
            "Epoch 00020: val_acc did not improve from 0.47757\n",
            "Epoch 21/30\n",
            "126/125 [==============================] - 52s 414ms/step - loss: 0.2000 - acc: 0.9480 - val_loss: 5.5259 - val_acc: 0.4008\n",
            "\n",
            "Epoch 00021: val_acc did not improve from 0.47757\n",
            "Epoch 22/30\n",
            "126/125 [==============================] - 53s 418ms/step - loss: 0.1567 - acc: 0.9593 - val_loss: 5.1005 - val_acc: 0.4237\n",
            "\n",
            "Epoch 00022: val_acc did not improve from 0.47757\n",
            "Epoch 23/30\n",
            "126/125 [==============================] - 53s 417ms/step - loss: 0.1151 - acc: 0.9666 - val_loss: 5.1114 - val_acc: 0.4656\n",
            "\n",
            "Epoch 00023: val_acc did not improve from 0.47757\n",
            "Epoch 24/30\n",
            "126/125 [==============================] - 61s 482ms/step - loss: 0.1483 - acc: 0.9654 - val_loss: 4.5792 - val_acc: 0.4257\n",
            "\n",
            "Epoch 00024: val_acc did not improve from 0.47757\n",
            "Epoch 25/30\n",
            "126/125 [==============================] - 52s 416ms/step - loss: 0.1872 - acc: 0.9496 - val_loss: 7.6382 - val_acc: 0.3729\n",
            "\n",
            "Epoch 00025: val_acc did not improve from 0.47757\n",
            "Epoch 26/30\n",
            "126/125 [==============================] - 52s 413ms/step - loss: 0.1710 - acc: 0.9497 - val_loss: 7.6791 - val_acc: 0.3888\n",
            "\n",
            "Epoch 00026: val_acc did not improve from 0.47757\n",
            "Epoch 27/30\n",
            "126/125 [==============================] - 53s 418ms/step - loss: 0.1121 - acc: 0.9687 - val_loss: 4.8639 - val_acc: 0.4197\n",
            "\n",
            "Epoch 00027: val_acc did not improve from 0.47757\n",
            "Epoch 28/30\n",
            "126/125 [==============================] - 53s 421ms/step - loss: 0.0998 - acc: 0.9721 - val_loss: 7.3216 - val_acc: 0.3958\n",
            "\n",
            "Epoch 00028: val_acc did not improve from 0.47757\n",
            "Epoch 29/30\n",
            "126/125 [==============================] - 53s 423ms/step - loss: 0.1449 - acc: 0.9568 - val_loss: 3.5752 - val_acc: 0.3878\n",
            "\n",
            "Epoch 00029: val_acc did not improve from 0.47757\n",
            "Epoch 30/30\n",
            "126/125 [==============================] - 53s 422ms/step - loss: 0.1577 - acc: 0.9631 - val_loss: 4.5579 - val_acc: 0.4477\n",
            "\n",
            "Epoch 00030: val_acc did not improve from 0.47757\n"
          ],
          "name": "stdout"
        }
      ]
    },
    {
      "cell_type": "code",
      "metadata": {
        "id": "_bOtcuXjrZ9f",
        "colab_type": "code",
        "colab": {}
      },
      "source": [
        "y_true = test_batches.classes\n",
        "predictions = model.predict_generator(test_batches, steps=test_batch_size, verbose=1)\n",
        "print(len(predictions), len(y_true))"
      ],
      "execution_count": 0,
      "outputs": []
    },
    {
      "cell_type": "code",
      "metadata": {
        "id": "BY72ghY3r8n-",
        "colab_type": "code",
        "colab": {}
      },
      "source": [
        "from sklearn.metrics import confusion_matrix\n",
        "def plot_confusion_matrix(cm, classes, normalize=False, title='Confusion matrix', cmap=plt.cm.Blues):\n",
        "    if normalize:\n",
        "        cm = cm.astype('float') / cm.sum(axis=1)[:, np.newaxis]\n",
        "        print(\"Normalized confusion matrix\")\n",
        "    else:\n",
        "        print('Confusion matrix, without normalization')\n",
        "\n",
        "    print(cm)\n",
        "    plt.imshow(cm, interpolation='nearest', cmap=cmap)\n",
        "    plt.title(title)\n",
        "    plt.colorbar()\n",
        "    tick_marks = np.arange(len(classes))\n",
        "    plt.xticks(tick_marks, classes, rotation=45)\n",
        "    plt.yticks(tick_marks, classes)\n",
        "    fmt = '.2f' if normalize else 'd'\n",
        "    thresh = cm.max() / 2.\n",
        "    for i, j in itertools.product(range(cm.shape[0]), range(cm.shape[1])):\n",
        "        plt.text(j, i, format(cm[i, j], fmt),\n",
        "                 horizontalalignment=\"center\",\n",
        "                 color=\"white\" if cm[i, j] > thresh else \"black\")\n",
        "    plt.ylabel('True label')\n",
        "    plt.xlabel('Predicted label')\n",
        "    plt.tight_layout()\n",
        "\n",
        "predictions = predictions[:2755]\n",
        "y_true = y_true[:2755]\n",
        "cm = confusion_matrix(y_true, predictions)\n",
        "cm_plot_labels = ['akiec', 'bcc', 'bkl', 'df', 'mel','nv', 'vasc']\n",
        "plot_confusion_matrix(cm, cm_plot_labels)"
      ],
      "execution_count": 0,
      "outputs": []
    },
    {
      "cell_type": "markdown",
      "metadata": {
        "id": "AdMWnVBVk7LH",
        "colab_type": "text"
      },
      "source": [
        "## Prediction and Evaluation"
      ]
    },
    {
      "cell_type": "code",
      "metadata": {
        "id": "TJCyQEyodM2o",
        "colab_type": "code",
        "colab": {}
      },
      "source": [
        "import numpy as np\n",
        "from keras.preprocessing import image\n",
        "from keras.models import load_model\n",
        "test_image = image.load_img('dataset/train/melanoma/ISIC_0015045.jpg', target_size = (348, 256))\n",
        "test_image = image.img_to_array(test_image)\n",
        "test_image = np.expand_dims(test_image, axis = 0)\n",
        "model = load_model('model_without_transfer_learning.h5')\n",
        "result = classifier.predict(test_image)\n",
        "print(result)"
      ],
      "execution_count": 0,
      "outputs": []
    }
  ]
}