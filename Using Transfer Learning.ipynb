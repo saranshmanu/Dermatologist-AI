{
 "cells": [
  {
   "cell_type": "markdown",
   "metadata": {},
   "source": [
    "<H1>Using transfer learning</H1>"
   ]
  },
  {
   "cell_type": "code",
   "execution_count": 5,
   "metadata": {},
   "outputs": [],
   "source": [
    "from sklearn.datasets import load_files       \n",
    "from keras.utils import np_utils\n",
    "import numpy as np\n",
    "from glob import glob"
   ]
  },
  {
   "cell_type": "code",
   "execution_count": 2,
   "metadata": {},
   "outputs": [],
   "source": [
    "def load_dataset(path):\n",
    "    data = load_files(path)\n",
    "    print('Done Loading files...')\n",
    "    files = np.array(data['filenames'])\n",
    "    targets = np_utils.to_categorical(np.array(data['target']), 3)\n",
    "    return files, targets"
   ]
  },
  {
   "cell_type": "code",
   "execution_count": 3,
   "metadata": {},
   "outputs": [
    {
     "name": "stdout",
     "output_type": "stream",
     "text": [
      "Done Loading files...\n"
     ]
    }
   ],
   "source": [
    "train_files, train_targets = load_dataset('dataset/train')\n",
    "valid_files, valid_targets = load_dataset('dataset/valid')\n",
    "test_files, test_targets = load_dataset('dataset/test')"
   ]
  },
  {
   "cell_type": "code",
   "execution_count": 4,
   "metadata": {},
   "outputs": [
    {
     "name": "stdout",
     "output_type": "stream",
     "text": [
      "train_files size: 150\n",
      "train_files shape: (150,)\n",
      "target shape: (150, 3)\n"
     ]
    }
   ],
   "source": [
    "print('train_files size: {}'.format(len(train_files)))\n",
    "print('train_files shape: {}'.format(train_files.shape))\n",
    "print('target shape: {}'.format(train_targets.shape))"
   ]
  },
  {
   "cell_type": "code",
   "execution_count": 6,
   "metadata": {},
   "outputs": [],
   "source": [
    "from keras.preprocessing import image\n",
    "from tqdm import tqdm\n",
    "\n",
    "def path_to_tensor(img_path):\n",
    "    img = image.load_img(img_path, target_size=(384, 256))\n",
    "    x = image.img_to_array(img)\n",
    "    return np.expand_dims(x, axis=0)\n",
    "\n",
    "def paths_to_tensor(image_paths):\n",
    "    return np.vstack([path_to_tensor(path) for path in image_paths])"
   ]
  },
  {
   "cell_type": "code",
   "execution_count": 7,
   "metadata": {},
   "outputs": [
    {
     "name": "stderr",
     "output_type": "stream",
     "text": [
      "100%|██████████| 150/150 [02:01<00:00,  1.23it/s]\n",
      "100%|██████████| 150/150 [02:03<00:00,  1.22it/s]\n",
      "100%|██████████| 150/150 [01:58<00:00,  1.27it/s]"
     ]
    },
    {
     "name": "stdout",
     "output_type": "stream",
     "text": [
      "(150, 384, 256, 3)\n"
     ]
    },
    {
     "name": "stderr",
     "output_type": "stream",
     "text": [
      "\n"
     ]
    }
   ],
   "source": [
    "train_tensors = paths_to_tensor(tqdm(train_files))\n",
    "valid_tensors = paths_to_tensor(tqdm(valid_files))\n",
    "test_tensors = paths_to_tensor(tqdm(test_files))\n",
    "print(train_tensors.shape)"
   ]
  },
  {
   "cell_type": "code",
   "execution_count": 8,
   "metadata": {},
   "outputs": [],
   "source": [
    "import matplotlib.pyplot as plt\n",
    "from keras.preprocessing.image import ImageDataGenerator\n",
    "\n",
    "apply_train_image_transform = False\n",
    "if apply_train_image_transform:\n",
    "    datagen_train = ImageDataGenerator(horizontal_flip=True,vertical_flip=True)\n",
    "    datagen_train.fit(train_tensors)\n",
    "    shape = (train_tensors.shape[0] * 2,) + train_tensors.shape[1:]\n",
    "    generated = np.ndarray(shape=shape)\n",
    "    for i, image in tqdm(enumerate(train_tensors)):\n",
    "        generated[i] = datagen_train.random_transform(image)\n",
    "    train_tensors = np.concatenate((train_tensors, generated))\n",
    "    train_targets = train_targets.repeat(2, axis=0)"
   ]
  },
  {
   "cell_type": "code",
   "execution_count": 9,
   "metadata": {},
   "outputs": [],
   "source": [
    "from keras.applications.inception_resnet_v2 import preprocess_input\n",
    "train_imgs_preprocess = preprocess_input(train_tensors)\n",
    "valid_imgs_preprocess = preprocess_input(valid_tensors)\n",
    "test_imgs_preprocess = preprocess_input(test_tensors)\n",
    "del train_tensors, valid_tensors, test_tensors"
   ]
  },
  {
   "cell_type": "code",
   "execution_count": null,
   "metadata": {},
   "outputs": [],
   "source": [
    "from keras.applications.inception_resnet_v2 import InceptionResNetV2\n",
    "transfer_model = InceptionResNetV2(include_top=False)\n",
    "train_data = transfer_model.predict(train_imgs_preprocess)\n",
    "valid_data = transfer_model.predict(valid_imgs_preprocess)\n",
    "test_data = transfer_model.predict(test_imgs_preprocess)\n",
    "del train_imgs_preprocess, valid_imgs_preprocess, test_imgs_preprocess\n",
    "print(train_data.shape)"
   ]
  },
  {
   "cell_type": "code",
   "execution_count": null,
   "metadata": {},
   "outputs": [],
   "source": [
    "from keras.layers import Conv2D, Dropout, Flatten, Dense, MaxPooling2D, GlobalAveragePooling2D\n",
    "from keras.models import Sequential\n",
    "my_model = Sequential()\n",
    "my_model.add(GlobalAveragePooling2D(input_shape=train_data.shape[1:]))\n",
    "my_model.add(Dropout(0.2))\n",
    "my_model.add(Dense(1024, activation='relu'))\n",
    "my_model.add(Dropout(0.2))\n",
    "my_model.add(Dense(3, activation='softmax'))\n",
    "my_model.summary()"
   ]
  },
  {
   "cell_type": "code",
   "execution_count": null,
   "metadata": {},
   "outputs": [],
   "source": [
    "my_model.compile(loss='categorical_crossentropy', optimizer='adam', metrics=['accuracy'])"
   ]
  },
  {
   "cell_type": "code",
   "execution_count": null,
   "metadata": {},
   "outputs": [],
   "source": [
    "from keras.callbacks import ModelCheckpoint\n",
    "checkpoint_filepath = 'weights.best.my.hdf5'\n",
    "my_checkpointer = ModelCheckpoint(filepath=checkpoint_filepath,\n",
    "                                  verbose=1, save_best_only=True)\n",
    "my_model.fit(train_data, \n",
    "             train_targets, \n",
    "             validation_data=(valid_data, valid_targets),\n",
    "             epochs=60, \n",
    "             batch_size=200, \n",
    "             callbacks=[my_checkpointer], \n",
    "             verbose=1)"
   ]
  }
 ],
 "metadata": {
  "kernelspec": {
   "display_name": "Python 3",
   "language": "python",
   "name": "python3"
  },
  "language_info": {
   "codemirror_mode": {
    "name": "ipython",
    "version": 3
   },
   "file_extension": ".py",
   "mimetype": "text/x-python",
   "name": "python",
   "nbconvert_exporter": "python",
   "pygments_lexer": "ipython3",
   "version": "3.5.2"
  }
 },
 "nbformat": 4,
 "nbformat_minor": 2
}
